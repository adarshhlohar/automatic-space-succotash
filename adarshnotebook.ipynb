{
 "cells": [
  {
   "cell_type": "code",
   "execution_count": 1,
   "id": "82996942",
   "metadata": {
    "_cell_guid": "b1076dfc-b9ad-4769-8c92-a6c4dae69d19",
    "_uuid": "8f2839f25d086af736a60e9eeb907d3b93b6e0e5",
    "execution": {
     "iopub.execute_input": "2023-04-29T09:19:53.234214Z",
     "iopub.status.busy": "2023-04-29T09:19:53.233645Z",
     "iopub.status.idle": "2023-04-29T09:19:53.260202Z",
     "shell.execute_reply": "2023-04-29T09:19:53.258911Z"
    },
    "papermill": {
     "duration": 0.036969,
     "end_time": "2023-04-29T09:19:53.264341",
     "exception": false,
     "start_time": "2023-04-29T09:19:53.227372",
     "status": "completed"
    },
    "tags": []
   },
   "outputs": [
    {
     "name": "stdout",
     "output_type": "stream",
     "text": [
      "/kaggle/input/heart-disease-dataset/heart.csv\n"
     ]
    }
   ],
   "source": [
    "# This Python 3 environment comes with many helpful analytics libraries installed\n",
    "# It is defined by the kaggle/python Docker image: https://github.com/kaggle/docker-python\n",
    "# For example, here's several helpful packages to load\n",
    "\n",
    "import numpy as np # linear algebra\n",
    "import pandas as pd # data processing, CSV file I/O (e.g. pd.read_csv)\n",
    "\n",
    "# Input data files are available in the read-only \"../input/\" directory\n",
    "# For example, running this (by clicking run or pressing Shift+Enter) will list all files under the input directory\n",
    "\n",
    "import os\n",
    "for dirname, _, filenames in os.walk('/kaggle/input'):\n",
    "    for filename in filenames:\n",
    "        print(os.path.join(dirname, filename))\n",
    "\n",
    "# You can write up to 20GB to the current directory (/kaggle/working/) that gets preserved as output when you create a version using \"Save & Run All\" \n",
    "# You can also write temporary files to /kaggle/temp/, but they won't be saved outside of the current session"
   ]
  },
  {
   "cell_type": "code",
   "execution_count": 2,
   "id": "6b4618fc",
   "metadata": {
    "execution": {
     "iopub.execute_input": "2023-04-29T09:19:53.273746Z",
     "iopub.status.busy": "2023-04-29T09:19:53.272908Z",
     "iopub.status.idle": "2023-04-29T09:19:53.329480Z",
     "shell.execute_reply": "2023-04-29T09:19:53.328118Z"
    },
    "papermill": {
     "duration": 0.064237,
     "end_time": "2023-04-29T09:19:53.332272",
     "exception": false,
     "start_time": "2023-04-29T09:19:53.268035",
     "status": "completed"
    },
    "tags": []
   },
   "outputs": [
    {
     "data": {
      "text/html": [
       "<div>\n",
       "<style scoped>\n",
       "    .dataframe tbody tr th:only-of-type {\n",
       "        vertical-align: middle;\n",
       "    }\n",
       "\n",
       "    .dataframe tbody tr th {\n",
       "        vertical-align: top;\n",
       "    }\n",
       "\n",
       "    .dataframe thead th {\n",
       "        text-align: right;\n",
       "    }\n",
       "</style>\n",
       "<table border=\"1\" class=\"dataframe\">\n",
       "  <thead>\n",
       "    <tr style=\"text-align: right;\">\n",
       "      <th></th>\n",
       "      <th>age</th>\n",
       "      <th>sex</th>\n",
       "      <th>cp</th>\n",
       "      <th>trestbps</th>\n",
       "      <th>chol</th>\n",
       "      <th>fbs</th>\n",
       "      <th>restecg</th>\n",
       "      <th>thalach</th>\n",
       "      <th>exang</th>\n",
       "      <th>oldpeak</th>\n",
       "      <th>slope</th>\n",
       "      <th>ca</th>\n",
       "      <th>thal</th>\n",
       "      <th>target</th>\n",
       "    </tr>\n",
       "  </thead>\n",
       "  <tbody>\n",
       "    <tr>\n",
       "      <th>0</th>\n",
       "      <td>52</td>\n",
       "      <td>1</td>\n",
       "      <td>0</td>\n",
       "      <td>125</td>\n",
       "      <td>212</td>\n",
       "      <td>0</td>\n",
       "      <td>1</td>\n",
       "      <td>168</td>\n",
       "      <td>0</td>\n",
       "      <td>1.0</td>\n",
       "      <td>2</td>\n",
       "      <td>2</td>\n",
       "      <td>3</td>\n",
       "      <td>0</td>\n",
       "    </tr>\n",
       "    <tr>\n",
       "      <th>1</th>\n",
       "      <td>53</td>\n",
       "      <td>1</td>\n",
       "      <td>0</td>\n",
       "      <td>140</td>\n",
       "      <td>203</td>\n",
       "      <td>1</td>\n",
       "      <td>0</td>\n",
       "      <td>155</td>\n",
       "      <td>1</td>\n",
       "      <td>3.1</td>\n",
       "      <td>0</td>\n",
       "      <td>0</td>\n",
       "      <td>3</td>\n",
       "      <td>0</td>\n",
       "    </tr>\n",
       "    <tr>\n",
       "      <th>2</th>\n",
       "      <td>70</td>\n",
       "      <td>1</td>\n",
       "      <td>0</td>\n",
       "      <td>145</td>\n",
       "      <td>174</td>\n",
       "      <td>0</td>\n",
       "      <td>1</td>\n",
       "      <td>125</td>\n",
       "      <td>1</td>\n",
       "      <td>2.6</td>\n",
       "      <td>0</td>\n",
       "      <td>0</td>\n",
       "      <td>3</td>\n",
       "      <td>0</td>\n",
       "    </tr>\n",
       "    <tr>\n",
       "      <th>3</th>\n",
       "      <td>61</td>\n",
       "      <td>1</td>\n",
       "      <td>0</td>\n",
       "      <td>148</td>\n",
       "      <td>203</td>\n",
       "      <td>0</td>\n",
       "      <td>1</td>\n",
       "      <td>161</td>\n",
       "      <td>0</td>\n",
       "      <td>0.0</td>\n",
       "      <td>2</td>\n",
       "      <td>1</td>\n",
       "      <td>3</td>\n",
       "      <td>0</td>\n",
       "    </tr>\n",
       "    <tr>\n",
       "      <th>4</th>\n",
       "      <td>62</td>\n",
       "      <td>0</td>\n",
       "      <td>0</td>\n",
       "      <td>138</td>\n",
       "      <td>294</td>\n",
       "      <td>1</td>\n",
       "      <td>1</td>\n",
       "      <td>106</td>\n",
       "      <td>0</td>\n",
       "      <td>1.9</td>\n",
       "      <td>1</td>\n",
       "      <td>3</td>\n",
       "      <td>2</td>\n",
       "      <td>0</td>\n",
       "    </tr>\n",
       "  </tbody>\n",
       "</table>\n",
       "</div>"
      ],
      "text/plain": [
       "   age  sex  cp  trestbps  chol  fbs  restecg  thalach  exang  oldpeak  slope  \\\n",
       "0   52    1   0       125   212    0        1      168      0      1.0      2   \n",
       "1   53    1   0       140   203    1        0      155      1      3.1      0   \n",
       "2   70    1   0       145   174    0        1      125      1      2.6      0   \n",
       "3   61    1   0       148   203    0        1      161      0      0.0      2   \n",
       "4   62    0   0       138   294    1        1      106      0      1.9      1   \n",
       "\n",
       "   ca  thal  target  \n",
       "0   2     3       0  \n",
       "1   0     3       0  \n",
       "2   0     3       0  \n",
       "3   1     3       0  \n",
       "4   3     2       0  "
      ]
     },
     "execution_count": 2,
     "metadata": {},
     "output_type": "execute_result"
    }
   ],
   "source": [
    "import numpy as np\n",
    "import matplotlib.pyplot as plt\n",
    "import pandas as pd\n",
    "\n",
    "dataset = pd.read_csv(\"/kaggle/input/heart-disease-dataset/heart.csv\")\n",
    "dataset.head()\n",
    "# train.shape"
   ]
  },
  {
   "cell_type": "markdown",
   "id": "5e6a5e68",
   "metadata": {
    "papermill": {
     "duration": 0.003593,
     "end_time": "2023-04-29T09:19:53.339377",
     "exception": false,
     "start_time": "2023-04-29T09:19:53.335784",
     "status": "completed"
    },
    "tags": []
   },
   "source": []
  },
  {
   "cell_type": "code",
   "execution_count": 3,
   "id": "adb0091c",
   "metadata": {
    "execution": {
     "iopub.execute_input": "2023-04-29T09:19:53.348112Z",
     "iopub.status.busy": "2023-04-29T09:19:53.347726Z",
     "iopub.status.idle": "2023-04-29T09:19:53.360306Z",
     "shell.execute_reply": "2023-04-29T09:19:53.359180Z"
    },
    "papermill": {
     "duration": 0.020048,
     "end_time": "2023-04-29T09:19:53.362871",
     "exception": false,
     "start_time": "2023-04-29T09:19:53.342823",
     "status": "completed"
    },
    "tags": []
   },
   "outputs": [
    {
     "data": {
      "text/plain": [
       "0    0\n",
       "1    0\n",
       "2    0\n",
       "3    0\n",
       "4    0\n",
       "Name: target, dtype: int64"
      ]
     },
     "execution_count": 3,
     "metadata": {},
     "output_type": "execute_result"
    }
   ],
   "source": [
    "X = dataset.iloc[:,:-1]\n",
    "Y = dataset.iloc[:,-1]\n",
    "X.head()\n",
    "Y.head()"
   ]
  },
  {
   "cell_type": "code",
   "execution_count": 4,
   "id": "a95deb6d",
   "metadata": {
    "execution": {
     "iopub.execute_input": "2023-04-29T09:19:53.372044Z",
     "iopub.status.busy": "2023-04-29T09:19:53.371626Z",
     "iopub.status.idle": "2023-04-29T09:19:54.696009Z",
     "shell.execute_reply": "2023-04-29T09:19:54.694683Z"
    },
    "papermill": {
     "duration": 1.332417,
     "end_time": "2023-04-29T09:19:54.698897",
     "exception": false,
     "start_time": "2023-04-29T09:19:53.366480",
     "status": "completed"
    },
    "tags": []
   },
   "outputs": [
    {
     "name": "stdout",
     "output_type": "stream",
     "text": [
      "The Training data : (820, 13)\n",
      "The testing data : (205, 13)\n"
     ]
    }
   ],
   "source": [
    "from sklearn.model_selection import train_test_split\n",
    "Xtrain,Xtest,Ytrain,Ytest = train_test_split(X,Y,test_size = 0.20,random_state = 6)\n",
    "print(\"The Training data :\",Xtrain.shape)\n",
    "print(\"The testing data :\",Xtest.shape)"
   ]
  },
  {
   "cell_type": "code",
   "execution_count": 5,
   "id": "902678f0",
   "metadata": {
    "execution": {
     "iopub.execute_input": "2023-04-29T09:19:54.709230Z",
     "iopub.status.busy": "2023-04-29T09:19:54.708798Z",
     "iopub.status.idle": "2023-04-29T09:19:54.734374Z",
     "shell.execute_reply": "2023-04-29T09:19:54.733226Z"
    },
    "papermill": {
     "duration": 0.034301,
     "end_time": "2023-04-29T09:19:54.737096",
     "exception": false,
     "start_time": "2023-04-29T09:19:54.702795",
     "status": "completed"
    },
    "tags": []
   },
   "outputs": [
    {
     "data": {
      "text/plain": [
       "(205, 13)"
      ]
     },
     "execution_count": 5,
     "metadata": {},
     "output_type": "execute_result"
    }
   ],
   "source": [
    "from sklearn.preprocessing import StandardScaler\n",
    "# SC_X = StandardScalar()\n",
    "SC_X = StandardScaler()\n",
    "X = SC_X.fit_transform(X)\n",
    "\n",
    "Xtrain = SC_X.fit_transform(Xtrain)\n",
    "Xtest = SC_X.fit_transform(Xtest)\n",
    "Xtrain.shape\n",
    "Xtest.shape\n"
   ]
  },
  {
   "cell_type": "code",
   "execution_count": 6,
   "id": "e4cf2e8f",
   "metadata": {
    "execution": {
     "iopub.execute_input": "2023-04-29T09:19:54.746799Z",
     "iopub.status.busy": "2023-04-29T09:19:54.746362Z",
     "iopub.status.idle": "2023-04-29T09:19:54.879255Z",
     "shell.execute_reply": "2023-04-29T09:19:54.877949Z"
    },
    "papermill": {
     "duration": 0.141383,
     "end_time": "2023-04-29T09:19:54.882334",
     "exception": false,
     "start_time": "2023-04-29T09:19:54.740951",
     "status": "completed"
    },
    "tags": []
   },
   "outputs": [
    {
     "data": {
      "text/plain": [
       "SVC(kernel='linear', random_state=6)"
      ]
     },
     "execution_count": 6,
     "metadata": {},
     "output_type": "execute_result"
    }
   ],
   "source": [
    "from sklearn.svm import SVC\n",
    "classifier = SVC(kernel = 'linear',random_state = 6)\n",
    "classifier .fit(Xtrain,Ytrain)"
   ]
  },
  {
   "cell_type": "code",
   "execution_count": 7,
   "id": "6f29c59f",
   "metadata": {
    "execution": {
     "iopub.execute_input": "2023-04-29T09:19:54.891982Z",
     "iopub.status.busy": "2023-04-29T09:19:54.891560Z",
     "iopub.status.idle": "2023-04-29T09:19:54.900937Z",
     "shell.execute_reply": "2023-04-29T09:19:54.899881Z"
    },
    "papermill": {
     "duration": 0.017035,
     "end_time": "2023-04-29T09:19:54.903272",
     "exception": false,
     "start_time": "2023-04-29T09:19:54.886237",
     "status": "completed"
    },
    "tags": []
   },
   "outputs": [
    {
     "data": {
      "text/plain": [
       "array([0, 0, 1, 1, 0, 1, 0, 0, 0, 0, 1, 1, 0, 0, 0, 1, 1, 0, 0, 0, 0, 1,\n",
       "       1, 1, 1, 0, 0, 0, 1, 1, 1, 0, 1, 1, 0, 1, 0, 0, 1, 1, 0, 1, 1, 0,\n",
       "       0, 1, 0, 0, 1, 1, 0, 0, 1, 0, 1, 1, 1, 1, 1, 1, 0, 1, 0, 0, 0, 0,\n",
       "       0, 1, 1, 1, 1, 0, 1, 1, 0, 1, 1, 1, 1, 1, 1, 1, 1, 1, 1, 0, 0, 0,\n",
       "       0, 1, 1, 1, 1, 1, 0, 1, 0, 0, 1, 0, 0, 0, 0, 1, 1, 0, 0, 0, 1, 0,\n",
       "       1, 0, 1, 0, 0, 1, 0, 0, 1, 1, 1, 0, 1, 0, 1, 0, 1, 0, 1, 0, 0, 1,\n",
       "       0, 0, 1, 0, 1, 1, 0, 0, 1, 0, 0, 0, 1, 1, 0, 0, 1, 0, 1, 0, 1, 1,\n",
       "       0, 1, 1, 0, 1, 1, 1, 1, 1, 1, 1, 1, 1, 0, 1, 1, 1, 0, 1, 1, 1, 1,\n",
       "       1, 1, 1, 1, 1, 1, 0, 0, 1, 1, 1, 1, 0, 1, 1, 1, 1, 0, 0, 1, 0, 0,\n",
       "       0, 0, 0, 1, 1, 0, 1])"
      ]
     },
     "execution_count": 7,
     "metadata": {},
     "output_type": "execute_result"
    }
   ],
   "source": [
    "Y_Pred = classifier.predict(Xtest)\n",
    "Y_Pred"
   ]
  },
  {
   "cell_type": "code",
   "execution_count": 8,
   "id": "0f2b4ecf",
   "metadata": {
    "execution": {
     "iopub.execute_input": "2023-04-29T09:19:54.913735Z",
     "iopub.status.busy": "2023-04-29T09:19:54.913025Z",
     "iopub.status.idle": "2023-04-29T09:19:54.919886Z",
     "shell.execute_reply": "2023-04-29T09:19:54.918581Z"
    },
    "papermill": {
     "duration": 0.015059,
     "end_time": "2023-04-29T09:19:54.922455",
     "exception": false,
     "start_time": "2023-04-29T09:19:54.907396",
     "status": "completed"
    },
    "tags": []
   },
   "outputs": [
    {
     "name": "stdout",
     "output_type": "stream",
     "text": [
      "The accuracy curve : with linear kernal\n",
      "matrics : 0.8536585365853658\n"
     ]
    }
   ],
   "source": [
    "from sklearn.metrics import confusion_matrix, classification_report, accuracy_score,roc_curve\n",
    "print(\"The accuracy curve : with linear kernal\")\n",
    "print(\"matrics :\" ,accuracy_score(Ytest,Y_Pred))"
   ]
  }
 ],
 "metadata": {
  "kernelspec": {
   "display_name": "Python 3",
   "language": "python",
   "name": "python3"
  },
  "language_info": {
   "codemirror_mode": {
    "name": "ipython",
    "version": 3
   },
   "file_extension": ".py",
   "mimetype": "text/x-python",
   "name": "python",
   "nbconvert_exporter": "python",
   "pygments_lexer": "ipython3",
   "version": "3.7.12"
  },
  "papermill": {
   "default_parameters": {},
   "duration": 13.672212,
   "end_time": "2023-04-29T09:19:55.749977",
   "environment_variables": {},
   "exception": null,
   "input_path": "__notebook__.ipynb",
   "output_path": "__notebook__.ipynb",
   "parameters": {},
   "start_time": "2023-04-29T09:19:42.077765",
   "version": "2.3.4"
  }
 },
 "nbformat": 4,
 "nbformat_minor": 5
}
